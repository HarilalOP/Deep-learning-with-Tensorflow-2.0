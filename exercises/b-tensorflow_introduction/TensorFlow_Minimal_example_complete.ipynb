{
 "cells": [
  {
   "cell_type": "markdown",
   "metadata": {},
   "source": [
    "# Minimal example with TensorFlow 2.0\n",
    "In this notebook we will recreate our machine learning algorithm using TF 2.0."
   ]
  },
  {
   "cell_type": "markdown",
   "metadata": {},
   "source": [
    "## Import the relevant libraries"
   ]
  },
  {
   "cell_type": "code",
   "execution_count": 1,
   "metadata": {},
   "outputs": [],
   "source": [
    "import numpy as np\n",
    "import matplotlib.pyplot as plt\n",
    "import tensorflow as tf"
   ]
  },
  {
   "cell_type": "markdown",
   "metadata": {},
   "source": [
    "## Data generation"
   ]
  },
  {
   "cell_type": "code",
   "execution_count": 2,
   "metadata": {},
   "outputs": [],
   "source": [
    "observations = 1000\n",
    "\n",
    "xs = np.random.uniform(low=-10, high=10, size=(observations,1))\n",
    "zs = np.random.uniform(-10, 10, (observations,1))\n",
    "\n",
    "generated_inputs = np.column_stack((xs,zs))\n",
    "\n",
    "noise = np.random.uniform(-1, 1, (observations,1))\n",
    "\n",
    "generated_targets = 2*xs - 3*zs + 5 + noise\n",
    "\n",
    "np.savez('TF_intro', inputs=generated_inputs, targets=generated_targets)"
   ]
  },
  {
   "cell_type": "markdown",
   "metadata": {},
   "source": [
    "## Solving with TensorFlow"
   ]
  },
  {
   "cell_type": "code",
   "execution_count": 3,
   "metadata": {},
   "outputs": [],
   "source": [
    "training_data = np.load('TF_intro.npz')"
   ]
  },
  {
   "cell_type": "code",
   "execution_count": 4,
   "metadata": {},
   "outputs": [
    {
     "name": "stdout",
     "output_type": "stream",
     "text": [
      "Epoch 1/100\n",
      "1000/1000 - 0s - loss: 20.2728\n",
      "Epoch 2/100\n",
      "1000/1000 - 0s - loss: 1.5880\n",
      "Epoch 3/100\n",
      "1000/1000 - 0s - loss: 0.4771\n",
      "Epoch 4/100\n",
      "1000/1000 - 0s - loss: 0.3821\n",
      "Epoch 5/100\n",
      "1000/1000 - 0s - loss: 0.3624\n",
      "Epoch 6/100\n",
      "1000/1000 - 0s - loss: 0.3547\n",
      "Epoch 7/100\n",
      "1000/1000 - 0s - loss: 0.3750\n",
      "Epoch 8/100\n",
      "1000/1000 - 0s - loss: 0.3562\n",
      "Epoch 9/100\n",
      "1000/1000 - 0s - loss: 0.3744\n",
      "Epoch 10/100\n",
      "1000/1000 - 0s - loss: 0.3980\n",
      "Epoch 11/100\n",
      "1000/1000 - 0s - loss: 0.3756\n",
      "Epoch 12/100\n",
      "1000/1000 - 0s - loss: 0.3726\n",
      "Epoch 13/100\n",
      "1000/1000 - 0s - loss: 0.3592\n",
      "Epoch 14/100\n",
      "1000/1000 - 0s - loss: 0.3541\n",
      "Epoch 15/100\n",
      "1000/1000 - 0s - loss: 0.3552\n",
      "Epoch 16/100\n",
      "1000/1000 - 0s - loss: 0.3696\n",
      "Epoch 17/100\n",
      "1000/1000 - 0s - loss: 0.3889\n",
      "Epoch 18/100\n",
      "1000/1000 - 0s - loss: 0.3667\n",
      "Epoch 19/100\n",
      "1000/1000 - 0s - loss: 0.3937\n",
      "Epoch 20/100\n",
      "1000/1000 - 0s - loss: 0.3769\n",
      "Epoch 21/100\n",
      "1000/1000 - 0s - loss: 0.3792\n",
      "Epoch 22/100\n",
      "1000/1000 - 0s - loss: 0.3709\n",
      "Epoch 23/100\n",
      "1000/1000 - 0s - loss: 0.3479\n",
      "Epoch 24/100\n",
      "1000/1000 - 0s - loss: 0.3680\n",
      "Epoch 25/100\n",
      "1000/1000 - 0s - loss: 0.3691\n",
      "Epoch 26/100\n",
      "1000/1000 - 0s - loss: 0.3723\n",
      "Epoch 27/100\n",
      "1000/1000 - 0s - loss: 0.3615\n",
      "Epoch 28/100\n",
      "1000/1000 - 0s - loss: 0.3607\n",
      "Epoch 29/100\n",
      "1000/1000 - 0s - loss: 0.3677\n",
      "Epoch 30/100\n",
      "1000/1000 - 0s - loss: 0.3877\n",
      "Epoch 31/100\n",
      "1000/1000 - 0s - loss: 0.3720\n",
      "Epoch 32/100\n",
      "1000/1000 - 0s - loss: 0.3601\n",
      "Epoch 33/100\n",
      "1000/1000 - 0s - loss: 0.3671\n",
      "Epoch 34/100\n",
      "1000/1000 - 0s - loss: 0.3619\n",
      "Epoch 35/100\n",
      "1000/1000 - 0s - loss: 0.3637\n",
      "Epoch 36/100\n",
      "1000/1000 - 0s - loss: 0.3953\n",
      "Epoch 37/100\n",
      "1000/1000 - 0s - loss: 0.3920\n",
      "Epoch 38/100\n",
      "1000/1000 - 0s - loss: 0.3895\n",
      "Epoch 39/100\n",
      "1000/1000 - 0s - loss: 0.3927\n",
      "Epoch 40/100\n",
      "1000/1000 - 0s - loss: 0.3551\n",
      "Epoch 41/100\n",
      "1000/1000 - 0s - loss: 0.3601\n",
      "Epoch 42/100\n",
      "1000/1000 - 0s - loss: 0.4048\n",
      "Epoch 43/100\n",
      "1000/1000 - 0s - loss: 0.4013\n",
      "Epoch 44/100\n",
      "1000/1000 - 0s - loss: 0.3850\n",
      "Epoch 45/100\n",
      "1000/1000 - 0s - loss: 0.3762\n",
      "Epoch 46/100\n",
      "1000/1000 - 0s - loss: 0.3680\n",
      "Epoch 47/100\n",
      "1000/1000 - 0s - loss: 0.3535\n",
      "Epoch 48/100\n",
      "1000/1000 - 0s - loss: 0.3536\n",
      "Epoch 49/100\n",
      "1000/1000 - 0s - loss: 0.3752\n",
      "Epoch 50/100\n",
      "1000/1000 - 0s - loss: 0.3731\n",
      "Epoch 51/100\n",
      "1000/1000 - 0s - loss: 0.3507\n",
      "Epoch 52/100\n",
      "1000/1000 - 0s - loss: 0.3754\n",
      "Epoch 53/100\n",
      "1000/1000 - 0s - loss: 0.3595\n",
      "Epoch 54/100\n",
      "1000/1000 - 0s - loss: 0.3564\n",
      "Epoch 55/100\n",
      "1000/1000 - 0s - loss: 0.3855\n",
      "Epoch 56/100\n",
      "1000/1000 - 0s - loss: 0.4035\n",
      "Epoch 57/100\n",
      "1000/1000 - 0s - loss: 0.3524\n",
      "Epoch 58/100\n",
      "1000/1000 - 0s - loss: 0.3778\n",
      "Epoch 59/100\n",
      "1000/1000 - 0s - loss: 0.3828\n",
      "Epoch 60/100\n",
      "1000/1000 - 0s - loss: 0.3666\n",
      "Epoch 61/100\n",
      "1000/1000 - 0s - loss: 0.3782\n",
      "Epoch 62/100\n",
      "1000/1000 - 0s - loss: 0.3607\n",
      "Epoch 63/100\n",
      "1000/1000 - 0s - loss: 0.3792\n",
      "Epoch 64/100\n",
      "1000/1000 - 0s - loss: 0.3605\n",
      "Epoch 65/100\n",
      "1000/1000 - 0s - loss: 0.3646\n",
      "Epoch 66/100\n",
      "1000/1000 - 0s - loss: 0.3607\n",
      "Epoch 67/100\n",
      "1000/1000 - 0s - loss: 0.3968\n",
      "Epoch 68/100\n",
      "1000/1000 - 0s - loss: 0.3868\n",
      "Epoch 69/100\n",
      "1000/1000 - 0s - loss: 0.3653\n",
      "Epoch 70/100\n",
      "1000/1000 - 0s - loss: 0.3514\n",
      "Epoch 71/100\n",
      "1000/1000 - 0s - loss: 0.3522\n",
      "Epoch 72/100\n",
      "1000/1000 - 0s - loss: 0.3909\n",
      "Epoch 73/100\n",
      "1000/1000 - 0s - loss: 0.3904\n",
      "Epoch 74/100\n",
      "1000/1000 - 0s - loss: 0.4466\n",
      "Epoch 75/100\n",
      "1000/1000 - 0s - loss: 0.3991\n",
      "Epoch 76/100\n",
      "1000/1000 - 0s - loss: 0.4088\n",
      "Epoch 77/100\n",
      "1000/1000 - 0s - loss: 0.3585\n",
      "Epoch 78/100\n",
      "1000/1000 - 0s - loss: 0.4337\n",
      "Epoch 79/100\n",
      "1000/1000 - 0s - loss: 0.3915\n",
      "Epoch 80/100\n",
      "1000/1000 - 0s - loss: 0.3774\n",
      "Epoch 81/100\n",
      "1000/1000 - 0s - loss: 0.4048\n",
      "Epoch 82/100\n",
      "1000/1000 - 0s - loss: 0.3910\n",
      "Epoch 83/100\n",
      "1000/1000 - 0s - loss: 0.3834\n",
      "Epoch 84/100\n",
      "1000/1000 - 0s - loss: 0.3919\n",
      "Epoch 85/100\n",
      "1000/1000 - 0s - loss: 0.3632\n",
      "Epoch 86/100\n",
      "1000/1000 - 0s - loss: 0.3865\n",
      "Epoch 87/100\n",
      "1000/1000 - 0s - loss: 0.3817\n",
      "Epoch 88/100\n",
      "1000/1000 - 0s - loss: 0.3933\n",
      "Epoch 89/100\n",
      "1000/1000 - 0s - loss: 0.3868\n",
      "Epoch 90/100\n",
      "1000/1000 - 0s - loss: 0.3921\n",
      "Epoch 91/100\n",
      "1000/1000 - 0s - loss: 0.3770\n",
      "Epoch 92/100\n",
      "1000/1000 - 0s - loss: 0.3926\n",
      "Epoch 93/100\n",
      "1000/1000 - 0s - loss: 0.3718\n",
      "Epoch 94/100\n",
      "1000/1000 - 0s - loss: 0.3818\n",
      "Epoch 95/100\n",
      "1000/1000 - 0s - loss: 0.3705\n",
      "Epoch 96/100\n",
      "1000/1000 - 0s - loss: 0.3508\n",
      "Epoch 97/100\n",
      "1000/1000 - 0s - loss: 0.3631\n",
      "Epoch 98/100\n",
      "1000/1000 - 0s - loss: 0.3859\n",
      "Epoch 99/100\n",
      "1000/1000 - 0s - loss: 0.3705\n",
      "Epoch 100/100\n",
      "1000/1000 - 0s - loss: 0.3587\n"
     ]
    },
    {
     "data": {
      "text/plain": [
       "<tensorflow.python.keras.callbacks.History at 0x1392619e8>"
      ]
     },
     "execution_count": 4,
     "metadata": {},
     "output_type": "execute_result"
    }
   ],
   "source": [
    "input_size = 2\n",
    "output_size = 1\n",
    "\n",
    "model = tf.keras.Sequential([\n",
    "                            tf.keras.layers.Dense(output_size,\n",
    "                                                 kernel_initializer=tf.random_uniform_initializer(minval=-0.1, maxval=0.1),\n",
    "                                                 bias_initializer=tf.random_uniform_initializer(minval=-0.1, maxval=0.1)\n",
    "                                                 )\n",
    "                            ])\n",
    "\n",
    "custom_optimizer = tf.keras.optimizers.SGD(learning_rate=0.02)\n",
    "\n",
    "model.compile(optimizer=custom_optimizer, loss='mean_squared_error')\n",
    "\n",
    "model.fit(training_data['inputs'], training_data['targets'], epochs=100, verbose=2)"
   ]
  },
  {
   "cell_type": "markdown",
   "metadata": {},
   "source": [
    "## Extract the weights and bias"
   ]
  },
  {
   "cell_type": "code",
   "execution_count": 5,
   "metadata": {},
   "outputs": [
    {
     "data": {
      "text/plain": [
       "[array([[ 2.025173 ],\n",
       "        [-3.0411692]], dtype=float32), array([5.0074997], dtype=float32)]"
      ]
     },
     "execution_count": 5,
     "metadata": {},
     "output_type": "execute_result"
    }
   ],
   "source": [
    "model.layers[0].get_weights()"
   ]
  },
  {
   "cell_type": "code",
   "execution_count": 6,
   "metadata": {},
   "outputs": [
    {
     "data": {
      "text/plain": [
       "array([[ 2.025173 ],\n",
       "       [-3.0411692]], dtype=float32)"
      ]
     },
     "execution_count": 6,
     "metadata": {},
     "output_type": "execute_result"
    }
   ],
   "source": [
    "weights = model.layers[0].get_weights()[0]\n",
    "weights"
   ]
  },
  {
   "cell_type": "code",
   "execution_count": null,
   "metadata": {},
   "outputs": [],
   "source": [
    "bias = model.layers[0].get_weights()[1]\n",
    "bias"
   ]
  },
  {
   "cell_type": "markdown",
   "metadata": {},
   "source": [
    "## Extract the outputs (make predictions)"
   ]
  },
  {
   "cell_type": "code",
   "execution_count": null,
   "metadata": {},
   "outputs": [],
   "source": [
    "model.predict_on_batch(training_data['inputs']).round(1)"
   ]
  },
  {
   "cell_type": "code",
   "execution_count": null,
   "metadata": {},
   "outputs": [],
   "source": [
    "training_data['targets'].round(1)"
   ]
  },
  {
   "cell_type": "markdown",
   "metadata": {},
   "source": [
    "## Plotting the data"
   ]
  },
  {
   "cell_type": "code",
   "execution_count": null,
   "metadata": {},
   "outputs": [],
   "source": [
    "plt.plot(np.squeeze(model.predict_on_batch(training_data['inputs'])), np.squeeze(training_data['targets']))\n",
    "plt.xlabel('outputs')\n",
    "plt.ylabel('targets')\n",
    "plt.show()"
   ]
  }
 ],
 "metadata": {
  "kernelspec": {
   "display_name": "Python [conda env:py3-TF2] *",
   "language": "python",
   "name": "conda-env-py3-TF2-py"
  },
  "language_info": {
   "codemirror_mode": {
    "name": "ipython",
    "version": 3
   },
   "file_extension": ".py",
   "mimetype": "text/x-python",
   "name": "python",
   "nbconvert_exporter": "python",
   "pygments_lexer": "ipython3",
   "version": "3.6.8"
  }
 },
 "nbformat": 4,
 "nbformat_minor": 2
}
